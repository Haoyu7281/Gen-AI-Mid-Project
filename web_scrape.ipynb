{
 "cells": [
  {
   "cell_type": "code",
   "execution_count": 7,
   "metadata": {},
   "outputs": [
    {
     "name": "stdout",
     "output_type": "stream",
     "text": [
      "https://datascience.uchicago.edu/education/masters-programs/ms-in-applied-data-science/in-person-program/\n",
      "https://datascience.uchicago.edu/education/masters-programs/ms-in-applied-data-science/online-program/%20\n",
      "https://www.chicagobooth.edu/mba/joint-degree/mba-ms-applied-data-science?sc_lang=en\n",
      "https://datascience.uchicago.edu/education/masters-programs/ms-in-applied-data-science/online-program/\n",
      "https://datascience.uchicago.edu/news/applying-to-the-ms-in-applied-data-science-program-heres-what-we-look-for/\n",
      "https://datascience.uchicago.edu/news/the-ms-in-applied-data-science-program-celebrates-10-years/\n"
     ]
    }
   ],
   "source": [
    "from bs4 import BeautifulSoup\n",
    "import requests\n",
    "\n",
    "url_list = []\n",
    "URL = \"https://datascience.uchicago.edu/education/masters-programs/ms-in-applied-data-science/\"\n",
    "page = requests.get(URL)\n",
    "soup = BeautifulSoup(page.content, \"html.parser\")\n",
    "for a_href in soup.find_all(\"a\", href=True):\n",
    "    # Check if the href attribute contains the specified substring\n",
    "    if 'applied-data-science' in a_href['href'] and a_href['href'].startswith(\"https://\"):\n",
    "        # Avoid duplicate URLs in the list\n",
    "        if a_href['href'] not in url_list:\n",
    "            url_list.append(a_href['href'])\n",
    "            print(a_href['href'])\n",
    "\n"
   ]
  },
  {
   "cell_type": "code",
   "execution_count": 8,
   "metadata": {},
   "outputs": [
    {
     "name": "stdout",
     "output_type": "stream",
     "text": [
      "https://datascience.uchicago.edu/education/masters-programs/ms-in-applied-data-science/\n",
      "https://datascience.uchicago.edu/education/masters-programs/ms-in-applied-data-science/tuition-fees-aid/\n",
      "https://www.coursera.org/learn/python-for-applied-data-science-ai?specialization=ibm-data-science\n",
      "https://dsi-main.justdev.co/education/masters-programs/ms-in-applied-data-science/instructors-staff/\n",
      "https://datascience.uchicago.edu/education/masters-programs/ms-in-applied-data-science/instructors-staff/\n",
      "https://dsi-main.justdev.co/education/masters-programs/ms-in-applied-data-science/our-students/\n",
      "https://datascience.uchicago.edu/education/masters-programs/ms-in-applied-data-science/capstone-projects/\n",
      "https://datascience.uchicago.edu/education/masters-programs/ms-in-applied-data-science/events-deadlines/\n",
      "https://datascience.uchicago.edu/education/masters-programs/ms-in-applied-data-science/faqs/\n",
      "https://www.chicagobooth.edu/mba/joint-degree/mba-ms-applied-data-science\n",
      "https://datascience.uchicago.edu/news/a-day-at-google-for-uchicagos-ms-in-applied-data-science-students/\n",
      "https://datascience.uchicago.edu/news/masters-in-applied-data-science-winter-2024-capstone-winners/\n",
      "https://www.coursera.org/specializations/applied-data-science\n",
      "https://datascience.uchicago.edu/education/masters-programs/ms-in-applied-data-science/how-to-apply/\n",
      "https://datascience.uchicago.edu/news/ms-in-applied-data-science-students-present-research-at-national-conference/\n",
      "https://datascience.uchicago.edu/news/ms-in-applied-data-science-shares-career-advice-with-stagg-high-school-students/\n",
      "https://datascience.uchicago.edu/news/masters-in-applied-data-science-autumn-2023-capstone-winners/\n",
      "https://datascience.uchicago.edu/news/masters-in-applied-data-science-summer-2024-capstone-winners/\n",
      "https://datascience.uchicago.edu/events/ask-a-student-in-ms-in-applied-data-science-6/\n",
      "https://apply-psd.uchicago.edu/portal/applied-data-science\n",
      "https://datascience.uchicago.edu/news/ms-in-applied-data-science-staff-share-5-ways-to-instill-joy-in-higher-ed/\n",
      "https://datascience.uchicago.edu/news/university-of-chicago-launches-joint-ms-in-applied-data-science-and-booth-mba-program/\n",
      "https://datascience.uchicago.edu/events/ms-in-applied-data-science-information-session-online-program/\n",
      "https://datascience.uchicago.edu/events/ask-a-student-in-ms-in-applied-data-science-2/\n",
      "https://datascience.uchicago.edu/events/ms-in-applied-data-science-information-session-online-program-2/\n",
      "https://datascience.uchicago.edu/events/ask-a-student-in-ms-in-applied-data-science-4/\n",
      "https://datascience.uchicago.edu/events/ask-a-student-in-ms-in-applied-data-science-5/\n",
      "https://datascience.uchicago.edu/news/new-joint-degree-business-administration-and-applied-data-science/\n",
      "https://datascience.uchicago.edu/news/masters-in-applied-data-science-summer-2023-capstone-winner/\n",
      "https://datascience.uchicago.edu/events/ms-in-applied-data-science-information-session-in-person-program/\n"
     ]
    }
   ],
   "source": [
    "for link in url_list:\n",
    "    page = requests.get(link)\n",
    "    soup = BeautifulSoup(page.content, \"html.parser\")\n",
    "    for a_href in soup.find_all(\"a\", href=True):\n",
    "    # Check if the href attribute contains the specified substring\n",
    "        if 'applied-data-science' in a_href['href'] and a_href['href'].startswith(\"https://\"):\n",
    "        # Avoid duplicate URLs in the list\n",
    "            if a_href['href'] not in url_list:\n",
    "                url_list.append(a_href['href'])\n",
    "                print(a_href['href'])\n",
    "        # with open(\"newsletter_links.txt\", \"a\") as linkfile:\n",
    "        #     linkfile.write(a_href[\"href\"]+\"\\n\")"
   ]
  },
  {
   "cell_type": "code",
   "execution_count": 9,
   "metadata": {},
   "outputs": [
    {
     "name": "stdout",
     "output_type": "stream",
     "text": [
      "36\n"
     ]
    }
   ],
   "source": [
    "print(len(url_list))"
   ]
  },
  {
   "cell_type": "code",
   "execution_count": 10,
   "metadata": {},
   "outputs": [
    {
     "name": "stdout",
     "output_type": "stream",
     "text": [
      "33\n"
     ]
    }
   ],
   "source": [
    "# there are several links displaying repeating content, and several links does not work, I will manually remove them.\n",
    "dead_link = [\"https://dsi-main.justdev.co/education/masters-programs/ms-in-applied-data-science/instructors-staff/\", \\\n",
    "             \"https://dsi-main.justdev.co/education/masters-programs/ms-in-applied-data-science/our-students/\"]\n",
    "repeated_link = [\"https://datascience.uchicago.edu/education/masters-programs/ms-in-applied-data-science/online-program/%20\"]\n",
    "bad_link = dead_link + repeated_link\n",
    "\n",
    "url_set = set(url_list)  # Convert list to set for faster operations\n",
    "for link in bad_link:\n",
    "    url_set.discard(link)  # discard removes the element if present, does nothing otherwise\n",
    "url_list = list(url_set)\n",
    "\n",
    "print(len(url_list))"
   ]
  },
  {
   "cell_type": "code",
   "execution_count": null,
   "metadata": {},
   "outputs": [],
   "source": []
  },
  {
   "cell_type": "code",
   "execution_count": null,
   "metadata": {},
   "outputs": [],
   "source": []
  }
 ],
 "metadata": {
  "kernelspec": {
   "display_name": "LLM-LangChain",
   "language": "python",
   "name": "python3"
  },
  "language_info": {
   "codemirror_mode": {
    "name": "ipython",
    "version": 3
   },
   "file_extension": ".py",
   "mimetype": "text/x-python",
   "name": "python",
   "nbconvert_exporter": "python",
   "pygments_lexer": "ipython3",
   "version": "3.9.20"
  }
 },
 "nbformat": 4,
 "nbformat_minor": 2
}
